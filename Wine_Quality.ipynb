{
  "nbformat": 4,
  "nbformat_minor": 0,
  "metadata": {
    "colab": {
      "name": "Wine Quality.ipynb",
      "version": "0.3.2",
      "provenance": []
    },
    "kernelspec": {
      "display_name": "Python 2",
      "language": "python",
      "name": "python2"
    },
    "accelerator": "GPU"
  },
  "cells": [
    {
      "cell_type": "markdown",
      "metadata": {
        "id": "view-in-github",
        "colab_type": "text"
      },
      "source": [
        "[View in Colaboratory](https://colab.research.google.com/github/rahulanandn/ThinkStats2/blob/master/Wine_Quality.ipynb)"
      ]
    },
    {
      "metadata": {
        "id": "Je7-TK1RxGTF",
        "colab_type": "code",
        "colab": {}
      },
      "cell_type": "code",
      "source": [
        "import numpy as np # linear algebra\n",
        "import pandas as pd # data processing, CSV file I/O (e.g. pd.read_csv)\n",
        "import matplotlib.pyplot as plt\n",
        "import seaborn as sns\n",
        "\n",
        "import os\n",
        "#print(os.listdir(\"../input\"))"
      ],
      "execution_count": 0,
      "outputs": []
    },
    {
      "metadata": {
        "id": "TaxcyAUt3JqV",
        "colab_type": "code",
        "colab": {}
      },
      "cell_type": "code",
      "source": [
        "df = pd.read_csv('winequality-red.csv')"
      ],
      "execution_count": 0,
      "outputs": []
    },
    {
      "metadata": {
        "id": "lYCauxbcxGTp",
        "colab_type": "code",
        "colab": {
          "base_uri": "https://localhost:8080/",
          "height": 161
        },
        "outputId": "79c0477c-fef8-4fbc-cde1-61d9ddbf6c5a"
      },
      "cell_type": "code",
      "source": [
        "df.head(3)"
      ],
      "execution_count": 58,
      "outputs": [
        {
          "output_type": "execute_result",
          "data": {
            "text/html": [
              "<div>\n",
              "<style scoped>\n",
              "    .dataframe tbody tr th:only-of-type {\n",
              "        vertical-align: middle;\n",
              "    }\n",
              "\n",
              "    .dataframe tbody tr th {\n",
              "        vertical-align: top;\n",
              "    }\n",
              "\n",
              "    .dataframe thead th {\n",
              "        text-align: right;\n",
              "    }\n",
              "</style>\n",
              "<table border=\"1\" class=\"dataframe\">\n",
              "  <thead>\n",
              "    <tr style=\"text-align: right;\">\n",
              "      <th></th>\n",
              "      <th>fixed acidity</th>\n",
              "      <th>volatile acidity</th>\n",
              "      <th>citric acid</th>\n",
              "      <th>residual sugar</th>\n",
              "      <th>chlorides</th>\n",
              "      <th>free sulfur dioxide</th>\n",
              "      <th>total sulfur dioxide</th>\n",
              "      <th>density</th>\n",
              "      <th>pH</th>\n",
              "      <th>sulphates</th>\n",
              "      <th>alcohol</th>\n",
              "      <th>quality</th>\n",
              "    </tr>\n",
              "  </thead>\n",
              "  <tbody>\n",
              "    <tr>\n",
              "      <th>0</th>\n",
              "      <td>7.4</td>\n",
              "      <td>0.70</td>\n",
              "      <td>0.00</td>\n",
              "      <td>1.9</td>\n",
              "      <td>0.076</td>\n",
              "      <td>11.0</td>\n",
              "      <td>34.0</td>\n",
              "      <td>0.9978</td>\n",
              "      <td>3.51</td>\n",
              "      <td>0.56</td>\n",
              "      <td>9.4</td>\n",
              "      <td>5</td>\n",
              "    </tr>\n",
              "    <tr>\n",
              "      <th>1</th>\n",
              "      <td>7.8</td>\n",
              "      <td>0.88</td>\n",
              "      <td>0.00</td>\n",
              "      <td>2.6</td>\n",
              "      <td>0.098</td>\n",
              "      <td>25.0</td>\n",
              "      <td>67.0</td>\n",
              "      <td>0.9968</td>\n",
              "      <td>3.20</td>\n",
              "      <td>0.68</td>\n",
              "      <td>9.8</td>\n",
              "      <td>5</td>\n",
              "    </tr>\n",
              "    <tr>\n",
              "      <th>2</th>\n",
              "      <td>7.8</td>\n",
              "      <td>0.76</td>\n",
              "      <td>0.04</td>\n",
              "      <td>2.3</td>\n",
              "      <td>0.092</td>\n",
              "      <td>15.0</td>\n",
              "      <td>54.0</td>\n",
              "      <td>0.9970</td>\n",
              "      <td>3.26</td>\n",
              "      <td>0.65</td>\n",
              "      <td>9.8</td>\n",
              "      <td>5</td>\n",
              "    </tr>\n",
              "  </tbody>\n",
              "</table>\n",
              "</div>"
            ],
            "text/plain": [
              "   fixed acidity  volatile acidity  citric acid  residual sugar  chlorides  \\\n",
              "0            7.4              0.70         0.00             1.9      0.076   \n",
              "1            7.8              0.88         0.00             2.6      0.098   \n",
              "2            7.8              0.76         0.04             2.3      0.092   \n",
              "\n",
              "   free sulfur dioxide  total sulfur dioxide  density    pH  sulphates  \\\n",
              "0                 11.0                  34.0   0.9978  3.51       0.56   \n",
              "1                 25.0                  67.0   0.9968  3.20       0.68   \n",
              "2                 15.0                  54.0   0.9970  3.26       0.65   \n",
              "\n",
              "   alcohol  quality  \n",
              "0      9.4        5  \n",
              "1      9.8        5  \n",
              "2      9.8        5  "
            ]
          },
          "metadata": {
            "tags": []
          },
          "execution_count": 58
        }
      ]
    },
    {
      "metadata": {
        "id": "fSQsi_i-xGT-",
        "colab_type": "code",
        "colab": {
          "base_uri": "https://localhost:8080/",
          "height": 338
        },
        "outputId": "ffdb180a-8a34-4861-a80b-79cdd8577220"
      },
      "cell_type": "code",
      "source": [
        "df.info()"
      ],
      "execution_count": 59,
      "outputs": [
        {
          "output_type": "stream",
          "text": [
            "<class 'pandas.core.frame.DataFrame'>\n",
            "RangeIndex: 1599 entries, 0 to 1598\n",
            "Data columns (total 12 columns):\n",
            "fixed acidity           1599 non-null float64\n",
            "volatile acidity        1599 non-null float64\n",
            "citric acid             1599 non-null float64\n",
            "residual sugar          1599 non-null float64\n",
            "chlorides               1599 non-null float64\n",
            "free sulfur dioxide     1599 non-null float64\n",
            "total sulfur dioxide    1599 non-null float64\n",
            "density                 1599 non-null float64\n",
            "pH                      1599 non-null float64\n",
            "sulphates               1599 non-null float64\n",
            "alcohol                 1599 non-null float64\n",
            "quality                 1599 non-null int64\n",
            "dtypes: float64(11), int64(1)\n",
            "memory usage: 150.0 KB\n"
          ],
          "name": "stdout"
        }
      ]
    },
    {
      "metadata": {
        "id": "6bXi0w30xGUL",
        "colab_type": "code",
        "colab": {
          "base_uri": "https://localhost:8080/",
          "height": 262
        },
        "outputId": "1d3ed56c-f256-4fcb-f300-750b7b3a261c"
      },
      "cell_type": "code",
      "source": [
        "df[df.isnull()].count()"
      ],
      "execution_count": 60,
      "outputs": [
        {
          "output_type": "execute_result",
          "data": {
            "text/plain": [
              "fixed acidity           0\n",
              "volatile acidity        0\n",
              "citric acid             0\n",
              "residual sugar          0\n",
              "chlorides               0\n",
              "free sulfur dioxide     0\n",
              "total sulfur dioxide    0\n",
              "density                 0\n",
              "pH                      0\n",
              "sulphates               0\n",
              "alcohol                 0\n",
              "quality                 0\n",
              "dtype: int64"
            ]
          },
          "metadata": {
            "tags": []
          },
          "execution_count": 60
        }
      ]
    },
    {
      "metadata": {
        "id": "wn_rV4suxGUf",
        "colab_type": "text"
      },
      "cell_type": "markdown",
      "source": [
        "#### There is no missing values"
      ]
    },
    {
      "metadata": {
        "id": "d6ql6cJ2xGUk",
        "colab_type": "code",
        "colab": {
          "base_uri": "https://localhost:8080/",
          "height": 436
        },
        "outputId": "008df996-f8c6-4ddb-96b0-b494e75fa05c"
      },
      "cell_type": "code",
      "source": [
        "sns.heatmap(df.corr())"
      ],
      "execution_count": 61,
      "outputs": [
        {
          "output_type": "execute_result",
          "data": {
            "text/plain": [
              "<matplotlib.axes._subplots.AxesSubplot at 0x7f8a726121d0>"
            ]
          },
          "metadata": {
            "tags": []
          },
          "execution_count": 61
        },
        {
          "output_type": "display_data",
          "data": {
            "image/png": "[encoded data removed]",
            "text/plain": [
              "<matplotlib.figure.Figure at 0x7f8a72656790>"
            ]
          },
          "metadata": {
            "tags": []
          }
        }
      ]
    },
    {
      "metadata": {
        "id": "g2tPskcnxGU6",
        "colab_type": "text"
      },
      "cell_type": "markdown",
      "source": [
        "### Positively correlated\n",
        "#### Citric Acid & Fixed Acidic\n",
        "#### Chlorides & Citric Acid\n",
        "#### SO2 & Sugar\n",
        "#### Total & Free SO2\n",
        "#### Density & Fixed acidic, Citric acid and Sugar\n",
        "#### Sulphates & Citric acid, Chlorides\n",
        "#### Quality and Alcohol"
      ]
    },
    {
      "metadata": {
        "id": "OzCweyz8xGU_",
        "colab_type": "code",
        "colab": {
          "base_uri": "https://localhost:8080/",
          "height": 516
        },
        "outputId": "31d1e299-a3bb-4198-ad0d-0e8446dff3f8"
      },
      "cell_type": "code",
      "source": [
        "plt.figure(figsize=(10,8))\n",
        "sns.boxplot(df['quality'],df['fixed acidity'])"
      ],
      "execution_count": 62,
      "outputs": [
        {
          "output_type": "execute_result",
          "data": {
            "text/plain": [
              "<matplotlib.axes._subplots.AxesSubplot at 0x7f8a74858710>"
            ]
          },
          "metadata": {
            "tags": []
          },
          "execution_count": 62
        },
        {
          "output_type": "display_data",
          "data": {
            "image/png": "[encoded data removed]",
            "text/plain": [
              "<matplotlib.figure.Figure at 0x7f8a72612cd0>"
            ]
          },
          "metadata": {
            "tags": []
          }
        }
      ]
    },
    {
      "metadata": {
        "id": "QOPiybEmxGVT",
        "colab_type": "text"
      },
      "cell_type": "markdown",
      "source": [
        "### As the fixed acidity increases, quality of the wine has also increased."
      ]
    },
    {
      "metadata": {
        "id": "eSfMU_1CxGVf",
        "colab_type": "text"
      },
      "cell_type": "markdown",
      "source": [
        "## pH VS Fixed Acidity (Non-Volatile)"
      ]
    },
    {
      "metadata": {
        "id": "iFoKP5TcxGVk",
        "colab_type": "code",
        "colab": {
          "base_uri": "https://localhost:8080/",
          "height": 506
        },
        "outputId": "a5ec6ae0-3738-4417-e6e2-7ceeba53e253"
      },
      "cell_type": "code",
      "source": [
        "plt.figure(figsize=(10,8))\n",
        "plt.scatter(df['fixed acidity'],df['pH'])\n",
        "plt.xlabel('Fixed Acidity').set_size(20)\n",
        "plt.ylabel('pH').set_size(20)"
      ],
      "execution_count": 63,
      "outputs": [
        {
          "output_type": "display_data",
          "data": {
            "image/png": "[encoded data removed]",
            "text/plain": [
              "<matplotlib.figure.Figure at 0x7f8a724bf510>"
            ]
          },
          "metadata": {
            "tags": []
          }
        }
      ]
    },
    {
      "metadata": {
        "id": "CdHpYB7OxGVt",
        "colab_type": "text"
      },
      "cell_type": "markdown",
      "source": [
        "### Lower the pH higher the Acidity\n",
        "#### ** Note \n",
        "#### 1. (1-7 pH) Acid\n",
        "####              2. (0pH) Water\n",
        "####              3. (7-14 pH) Base\n",
        "### From the note we can infer that the lower pH wines are acidic.  \n",
        "\n",
        "### Basically wines have a pH range (2.9 - 3.9)"
      ]
    },
    {
      "metadata": {
        "id": "Nh02ss9oxGVx",
        "colab_type": "text"
      },
      "cell_type": "markdown",
      "source": [
        "### Relationship between pH & Quality"
      ]
    },
    {
      "metadata": {
        "id": "dYU79rRyxGV1",
        "colab_type": "code",
        "colab": {
          "base_uri": "https://localhost:8080/",
          "height": 508
        },
        "outputId": "2a763080-4bd3-4ffe-8e90-cffc1405a282"
      },
      "cell_type": "code",
      "source": [
        "plt.figure(figsize=(10,8))\n",
        "sns.pointplot(df['quality'],df['pH'], color='red')\n",
        "plt.xlabel('Wine Quality').set_size(20)\n",
        "plt.ylabel('pH').set_size(20)"
      ],
      "execution_count": 64,
      "outputs": [
        {
          "output_type": "display_data",
          "data": {
            "image/png": "[encoded data removed]",
            "text/plain": [
              "<matplotlib.figure.Figure at 0x7f8a72365050>"
            ]
          },
          "metadata": {
            "tags": []
          }
        }
      ]
    },
    {
      "metadata": {
        "id": "vT_WOH0axGV9",
        "colab_type": "text"
      },
      "cell_type": "markdown",
      "source": [
        "#### Gradually the quality of wine is decreasing as pH level is increased.\n",
        "### The pointplot shows that, Higher quality wines are more acidic."
      ]
    },
    {
      "metadata": {
        "id": "6cRTfKEfxGWB",
        "colab_type": "text"
      },
      "cell_type": "markdown",
      "source": [
        "### Relationship between Citric Acid & Quality"
      ]
    },
    {
      "metadata": {
        "id": "GJEL5VjVxGWF",
        "colab_type": "code",
        "colab": {
          "base_uri": "https://localhost:8080/",
          "height": 506
        },
        "outputId": "1ae4263f-2977-40d1-cd9d-7fceddb0d16a"
      },
      "cell_type": "code",
      "source": [
        "plt.figure(figsize=(10,8))\n",
        "sns.pointplot(df['quality'],df['citric acid'])\n",
        "plt.xlabel('Quality').set_size(20)\n",
        "plt.ylabel('Citric Acid').set_size(20)"
      ],
      "execution_count": 65,
      "outputs": [
        {
          "output_type": "display_data",
          "data": {
            "image/png": "[encoded data removed]",
            "text/plain": [
              "<matplotlib.figure.Figure at 0x7f8a722e80d0>"
            ]
          },
          "metadata": {
            "tags": []
          }
        }
      ]
    },
    {
      "metadata": {
        "id": "rJuPHsn8xGW6",
        "colab_type": "text"
      },
      "cell_type": "markdown",
      "source": [
        "#### More the citric acid, increased Quality\n",
        "####  It is used to acidify the wine that are basic after primary fermentation and another reason for adding after fermentation due to the tendency of yeast to convert citric into acetic acid. Acetic acid spoles the quality of wine by making in volatile"
      ]
    },
    {
      "metadata": {
        "id": "lUybrYDHxGXE",
        "colab_type": "text"
      },
      "cell_type": "markdown",
      "source": [
        "### Relationship between SO2 & Quality"
      ]
    },
    {
      "metadata": {
        "id": "2NwgsTC8xGXJ",
        "colab_type": "code",
        "colab": {
          "base_uri": "https://localhost:8080/",
          "height": 497
        },
        "outputId": "f7caee0a-ad34-44ae-dd5d-78dfe2be808b"
      },
      "cell_type": "code",
      "source": [
        "plt.figure(figsize=(10,8))\n",
        "sns.pointplot(df['quality'],df['total sulfur dioxide'])\n",
        "plt.xlabel('Quality').set_size(10)\n",
        "plt.ylabel('SO2').set_size(10)"
      ],
      "execution_count": 66,
      "outputs": [
        {
          "output_type": "display_data",
          "data": {
            "image/png": "[encoded data removed]",
            "text/plain": [
              "<matplotlib.figure.Figure at 0x7f8a722f4bd0>"
            ]
          },
          "metadata": {
            "tags": []
          }
        }
      ]
    },
    {
      "metadata": {
        "id": "XtWIRtTXxGXS",
        "colab_type": "text"
      },
      "cell_type": "markdown",
      "source": [
        "#### Used to inhibit the microbes oxidation."
      ]
    },
    {
      "metadata": {
        "id": "CCSNetBDxGXS",
        "colab_type": "code",
        "colab": {
          "base_uri": "https://localhost:8080/",
          "height": 0
        },
        "outputId": "70a72549-66d2-4708-d047-7c782508af1b"
      },
      "cell_type": "code",
      "source": [
        " plt.figure(figsize=(10,8))\n",
        "plt.scatter(df['fixed acidity'],df['citric acid'])\n",
        "plt.xlabel('Fixed Acidity').set_size(20)\n",
        "plt.ylabel('Citric Acid').set_size(20)"
      ],
      "execution_count": 67,
      "outputs": [
        {
          "output_type": "display_data",
          "data": {
            "image/png": "[encoded data removed]",
            "text/plain": [
              "<matplotlib.figure.Figure at 0x7f8a7231aa10>"
            ]
          },
          "metadata": {
            "tags": []
          }
        }
      ]
    },
    {
      "metadata": {
        "id": "5bolH_5ExGXa",
        "colab_type": "code",
        "colab": {
          "base_uri": "https://localhost:8080/",
          "height": 0
        },
        "outputId": "70a4d857-35c2-4a90-d97f-f51328e01590"
      },
      "cell_type": "code",
      "source": [
        " plt.figure(figsize=(10,8))\n",
        "plt.scatter(df['chlorides'],df['sulphates'])\n",
        "plt.xlabel('Chlorides').set_size(20)\n",
        "plt.ylabel('Sulphates').set_size(20)"
      ],
      "execution_count": 68,
      "outputs": [
        {
          "output_type": "display_data",
          "data": {
            "image/png": "[encoded data removed]",
            "text/plain": [
              "<matplotlib.figure.Figure at 0x7f8a7490b210>"
            ]
          },
          "metadata": {
            "tags": []
          }
        }
      ]
    },
    {
      "metadata": {
        "id": "YmKDswN7xGXu",
        "colab_type": "text"
      },
      "cell_type": "markdown",
      "source": [
        "#### Though sulphates and Chlorides are positvely correlated but Sulphate content is more in most of the less chloride contained wines"
      ]
    },
    {
      "metadata": {
        "id": "ZSFbgzxJxGX1",
        "colab_type": "code",
        "colab": {
          "base_uri": "https://localhost:8080/",
          "height": 0
        },
        "outputId": "df1dcc57-e432-426f-f6ac-0887c704b187"
      },
      "cell_type": "code",
      "source": [
        "plt.figure(figsize=(10,8))\n",
        "sns.boxplot(df['quality'],df['volatile acidity'])\n",
        "plt.xlabel('quality').set_size(20)\n",
        "plt.ylabel('volatile acidity').set_size(20)"
      ],
      "execution_count": 69,
      "outputs": [
        {
          "output_type": "display_data",
          "data": {
            "image/png": "[encoded data removed]",
            "text/plain": [
              "<matplotlib.figure.Figure at 0x7f8a722d4dd0>"
            ]
          },
          "metadata": {
            "tags": []
          }
        }
      ]
    },
    {
      "metadata": {
        "id": "B_dGBH_axGYN",
        "colab_type": "text"
      },
      "cell_type": "markdown",
      "source": [
        "#### Volatile acidity spoils the wine by lowering the quality."
      ]
    },
    {
      "metadata": {
        "id": "jP5q2QSGxGYT",
        "colab_type": "code",
        "colab": {
          "base_uri": "https://localhost:8080/",
          "height": 0
        },
        "outputId": "e6b122ec-4d7f-4ee7-f80e-efdf1b7dd548"
      },
      "cell_type": "code",
      "source": [
        "plt.figure(figsize=(10,8))\n",
        "sns.boxplot(df['quality'],df['alcohol'])\n",
        "plt.xlabel('quality').set_size(20)\n",
        "plt.ylabel('alcohol').set_size(20)"
      ],
      "execution_count": 70,
      "outputs": [
        {
          "output_type": "display_data",
          "data": {
            "image/png": "[encoded data removed]",
            "text/plain": [
              "<matplotlib.figure.Figure at 0x7f8a74792f90>"
            ]
          },
          "metadata": {
            "tags": []
          }
        }
      ]
    },
    {
      "metadata": {
        "id": "ZJfY4C9zxGY5",
        "colab_type": "text"
      },
      "cell_type": "markdown",
      "source": [
        "#### It is an important content of the wine, which enhances wine's quality quantitavely."
      ]
    },
    {
      "metadata": {
        "id": "LK1RHO-ExGY8",
        "colab_type": "code",
        "colab": {
          "base_uri": "https://localhost:8080/",
          "height": 0
        },
        "outputId": "bec4e2e8-3a60-4d6b-cade-44b9f6ed0d0c"
      },
      "cell_type": "code",
      "source": [
        "plt.figure(figsize=(10,8))\n",
        "plt.scatter(df['residual sugar'],df['alcohol'])\n",
        "plt.xlabel('quality').set_size(20)\n",
        "plt.ylabel('Sugar').set_size(20)"
      ],
      "execution_count": 71,
      "outputs": [
        {
          "output_type": "display_data",
          "data": {
            "image/png": "[encoded data removed]",
            "text/plain": [
              "<matplotlib.figure.Figure at 0x7f8a74998450>"
            ]
          },
          "metadata": {
            "tags": []
          }
        }
      ]
    },
    {
      "metadata": {
        "id": "0MGqDBQGxGZD",
        "colab_type": "text"
      },
      "cell_type": "markdown",
      "source": [
        "##  Modeling"
      ]
    },
    {
      "metadata": {
        "id": "eaJckrs7xGZT",
        "colab_type": "code",
        "colab": {}
      },
      "cell_type": "code",
      "source": [
        "from sklearn.model_selection import train_test_split"
      ],
      "execution_count": 0,
      "outputs": []
    },
    {
      "metadata": {
        "id": "suw49ouvxGZg",
        "colab_type": "code",
        "colab": {}
      },
      "cell_type": "code",
      "source": [
        "# Sclaing all the features using Standard Scaler \n",
        "from sklearn.preprocessing import StandardScaler\n",
        "scale = StandardScaler()"
      ],
      "execution_count": 0,
      "outputs": []
    },
    {
      "metadata": {
        "id": "jpTNhyAjxGZq",
        "colab_type": "code",
        "colab": {}
      },
      "cell_type": "code",
      "source": [
        "#df1 = df.cle['quality']\n",
        "df1 = df.drop(['quality'], axis=1)"
      ],
      "execution_count": 0,
      "outputs": []
    },
    {
      "metadata": {
        "id": "zUsPdvK0xGZ1",
        "colab_type": "code",
        "colab": {}
      },
      "cell_type": "code",
      "source": [
        "scale.fit(df1)\n",
        "scale_fit = scale.transform(df1)"
      ],
      "execution_count": 0,
      "outputs": []
    },
    {
      "metadata": {
        "id": "Uw56pblUxGZ-",
        "colab_type": "code",
        "colab": {
          "base_uri": "https://localhost:8080/",
          "height": 1992
        },
        "outputId": "755b96e4-ca6c-4ca4-bcd9-7e3134275f4b"
      },
      "cell_type": "code",
      "source": [
        "scale_df = pd.DataFrame(scale_fit)\n",
        "scale_df"
      ],
      "execution_count": 76,
      "outputs": [
        {
          "output_type": "execute_result",
          "data": {
            "text/html": [
              "<div>\n",
              "<style scoped>\n",
              "    .dataframe tbody tr th:only-of-type {\n",
              "        vertical-align: middle;\n",
              "    }\n",
              "\n",
              "    .dataframe tbody tr th {\n",
              "        vertical-align: top;\n",
              "    }\n",
              "\n",
              "    .dataframe thead th {\n",
              "        text-align: right;\n",
              "    }\n",
              "</style>\n",
              "<table border=\"1\" class=\"dataframe\">\n",
              "  <thead>\n",
              "    <tr style=\"text-align: right;\">\n",
              "      <th></th>\n",
              "      <th>0</th>\n",
              "      <th>1</th>\n",
              "      <th>2</th>\n",
              "      <th>3</th>\n",
              "      <th>4</th>\n",
              "      <th>5</th>\n",
              "      <th>6</th>\n",
              "      <th>7</th>\n",
              "      <th>8</th>\n",
              "      <th>9</th>\n",
              "      <th>10</th>\n",
              "    </tr>\n",
              "  </thead>\n",
              "  <tbody>\n",
              "    <tr>\n",
              "      <th>0</th>\n",
              "      <td>-0.528360</td>\n",
              "      <td>0.961877</td>\n",
              "      <td>-1.391472</td>\n",
              "      <td>-0.453218</td>\n",
              "      <td>-0.243707</td>\n",
              "      <td>-0.466193</td>\n",
              "      <td>-0.379133</td>\n",
              "      <td>0.558274</td>\n",
              "      <td>1.288643</td>\n",
              "      <td>-0.579207</td>\n",
              "      <td>-0.960246</td>\n",
              "    </tr>\n",
              "    <tr>\n",
              "      <th>1</th>\n",
              "      <td>-0.298547</td>\n",
              "      <td>1.967442</td>\n",
              "      <td>-1.391472</td>\n",
              "      <td>0.043416</td>\n",
              "      <td>0.223875</td>\n",
              "      <td>0.872638</td>\n",
              "      <td>0.624363</td>\n",
              "      <td>0.028261</td>\n",
              "      <td>-0.719933</td>\n",
              "      <td>0.128950</td>\n",
              "      <td>-0.584777</td>\n",
              "    </tr>\n",
              "    <tr>\n",
              "      <th>2</th>\n",
              "      <td>-0.298547</td>\n",
              "      <td>1.297065</td>\n",
              "      <td>-1.186070</td>\n",
              "      <td>-0.169427</td>\n",
              "      <td>0.096353</td>\n",
              "      <td>-0.083669</td>\n",
              "      <td>0.229047</td>\n",
              "      <td>0.134264</td>\n",
              "      <td>-0.331177</td>\n",
              "      <td>-0.048089</td>\n",
              "      <td>-0.584777</td>\n",
              "    </tr>\n",
              "    <tr>\n",
              "      <th>3</th>\n",
              "      <td>1.654856</td>\n",
              "      <td>-1.384443</td>\n",
              "      <td>1.484154</td>\n",
              "      <td>-0.453218</td>\n",
              "      <td>-0.264960</td>\n",
              "      <td>0.107592</td>\n",
              "      <td>0.411500</td>\n",
              "      <td>0.664277</td>\n",
              "      <td>-0.979104</td>\n",
              "      <td>-0.461180</td>\n",
              "      <td>-0.584777</td>\n",
              "    </tr>\n",
              "    <tr>\n",
              "      <th>4</th>\n",
              "      <td>-0.528360</td>\n",
              "      <td>0.961877</td>\n",
              "      <td>-1.391472</td>\n",
              "      <td>-0.453218</td>\n",
              "      <td>-0.243707</td>\n",
              "      <td>-0.466193</td>\n",
              "      <td>-0.379133</td>\n",
              "      <td>0.558274</td>\n",
              "      <td>1.288643</td>\n",
              "      <td>-0.579207</td>\n",
              "      <td>-0.960246</td>\n",
              "    </tr>\n",
              "    <tr>\n",
              "      <th>5</th>\n",
              "      <td>-0.528360</td>\n",
              "      <td>0.738418</td>\n",
              "      <td>-1.391472</td>\n",
              "      <td>-0.524166</td>\n",
              "      <td>-0.264960</td>\n",
              "      <td>-0.274931</td>\n",
              "      <td>-0.196679</td>\n",
              "      <td>0.558274</td>\n",
              "      <td>1.288643</td>\n",
              "      <td>-0.579207</td>\n",
              "      <td>-0.960246</td>\n",
              "    </tr>\n",
              "    <tr>\n",
              "      <th>6</th>\n",
              "      <td>-0.241094</td>\n",
              "      <td>0.403229</td>\n",
              "      <td>-1.083370</td>\n",
              "      <td>-0.666062</td>\n",
              "      <td>-0.392483</td>\n",
              "      <td>-0.083669</td>\n",
              "      <td>0.381091</td>\n",
              "      <td>-0.183745</td>\n",
              "      <td>-0.072005</td>\n",
              "      <td>-1.169337</td>\n",
              "      <td>-0.960246</td>\n",
              "    </tr>\n",
              "    <tr>\n",
              "      <th>7</th>\n",
              "      <td>-0.585813</td>\n",
              "      <td>0.682553</td>\n",
              "      <td>-1.391472</td>\n",
              "      <td>-0.949853</td>\n",
              "      <td>-0.477498</td>\n",
              "      <td>-0.083669</td>\n",
              "      <td>-0.774449</td>\n",
              "      <td>-1.137769</td>\n",
              "      <td>0.511130</td>\n",
              "      <td>-1.110324</td>\n",
              "      <td>-0.397043</td>\n",
              "    </tr>\n",
              "    <tr>\n",
              "      <th>8</th>\n",
              "      <td>-0.298547</td>\n",
              "      <td>0.291499</td>\n",
              "      <td>-1.288771</td>\n",
              "      <td>-0.382271</td>\n",
              "      <td>-0.307468</td>\n",
              "      <td>-0.657454</td>\n",
              "      <td>-0.865676</td>\n",
              "      <td>0.028261</td>\n",
              "      <td>0.316751</td>\n",
              "      <td>-0.520193</td>\n",
              "      <td>-0.866379</td>\n",
              "    </tr>\n",
              "    <tr>\n",
              "      <th>9</th>\n",
              "      <td>-0.470907</td>\n",
              "      <td>-0.155419</td>\n",
              "      <td>0.457144</td>\n",
              "      <td>2.526589</td>\n",
              "      <td>-0.349975</td>\n",
              "      <td>0.107592</td>\n",
              "      <td>1.688677</td>\n",
              "      <td>0.558274</td>\n",
              "      <td>0.251958</td>\n",
              "      <td>0.837107</td>\n",
              "      <td>0.072294</td>\n",
              "    </tr>\n",
              "    <tr>\n",
              "      <th>10</th>\n",
              "      <td>-0.930531</td>\n",
              "      <td>0.291499</td>\n",
              "      <td>-0.980669</td>\n",
              "      <td>-0.524166</td>\n",
              "      <td>0.202621</td>\n",
              "      <td>-0.083669</td>\n",
              "      <td>0.563545</td>\n",
              "      <td>-0.448752</td>\n",
              "      <td>-0.201591</td>\n",
              "      <td>-0.697233</td>\n",
              "      <td>-1.147981</td>\n",
              "    </tr>\n",
              "    <tr>\n",
              "      <th>11</th>\n",
              "      <td>-0.470907</td>\n",
              "      <td>-0.155419</td>\n",
              "      <td>0.457144</td>\n",
              "      <td>2.526589</td>\n",
              "      <td>-0.349975</td>\n",
              "      <td>0.107592</td>\n",
              "      <td>1.688677</td>\n",
              "      <td>0.558274</td>\n",
              "      <td>0.251958</td>\n",
              "      <td>0.837107</td>\n",
              "      <td>0.072294</td>\n",
              "    </tr>\n",
              "    <tr>\n",
              "      <th>12</th>\n",
              "      <td>-1.562514</td>\n",
              "      <td>0.487026</td>\n",
              "      <td>-1.391472</td>\n",
              "      <td>-0.666062</td>\n",
              "      <td>0.032592</td>\n",
              "      <td>0.011961</td>\n",
              "      <td>0.381091</td>\n",
              "      <td>-1.296773</td>\n",
              "      <td>1.742192</td>\n",
              "      <td>-0.815259</td>\n",
              "      <td>-0.490910</td>\n",
              "    </tr>\n",
              "    <tr>\n",
              "      <th>13</th>\n",
              "      <td>-0.298547</td>\n",
              "      <td>0.459094</td>\n",
              "      <td>0.097691</td>\n",
              "      <td>-0.666062</td>\n",
              "      <td>0.563935</td>\n",
              "      <td>-0.657454</td>\n",
              "      <td>-0.531178</td>\n",
              "      <td>0.346269</td>\n",
              "      <td>-0.331177</td>\n",
              "      <td>5.322101</td>\n",
              "      <td>-1.241848</td>\n",
              "    </tr>\n",
              "    <tr>\n",
              "      <th>14</th>\n",
              "      <td>0.333436</td>\n",
              "      <td>0.514959</td>\n",
              "      <td>-0.467164</td>\n",
              "      <td>0.894790</td>\n",
              "      <td>1.881666</td>\n",
              "      <td>3.454669</td>\n",
              "      <td>2.996263</td>\n",
              "      <td>0.982285</td>\n",
              "      <td>-0.979104</td>\n",
              "      <td>1.309212</td>\n",
              "      <td>-1.147981</td>\n",
              "    </tr>\n",
              "    <tr>\n",
              "      <th>15</th>\n",
              "      <td>0.333436</td>\n",
              "      <td>0.514959</td>\n",
              "      <td>-0.415813</td>\n",
              "      <td>0.965737</td>\n",
              "      <td>1.754143</td>\n",
              "      <td>3.359038</td>\n",
              "      <td>3.087490</td>\n",
              "      <td>0.982285</td>\n",
              "      <td>-0.914312</td>\n",
              "      <td>1.604277</td>\n",
              "      <td>-1.147981</td>\n",
              "    </tr>\n",
              "    <tr>\n",
              "      <th>16</th>\n",
              "      <td>0.103624</td>\n",
              "      <td>-1.384443</td>\n",
              "      <td>1.484154</td>\n",
              "      <td>-0.524166</td>\n",
              "      <td>0.096353</td>\n",
              "      <td>1.828946</td>\n",
              "      <td>1.719086</td>\n",
              "      <td>0.081262</td>\n",
              "      <td>-0.072005</td>\n",
              "      <td>0.542042</td>\n",
              "      <td>0.072294</td>\n",
              "    </tr>\n",
              "    <tr>\n",
              "      <th>17</th>\n",
              "      <td>-0.126188</td>\n",
              "      <td>0.179770</td>\n",
              "      <td>0.046341</td>\n",
              "      <td>-0.595114</td>\n",
              "      <td>5.962380</td>\n",
              "      <td>0.011961</td>\n",
              "      <td>0.289865</td>\n",
              "      <td>0.028261</td>\n",
              "      <td>-1.303068</td>\n",
              "      <td>3.669735</td>\n",
              "      <td>-1.054113</td>\n",
              "    </tr>\n",
              "    <tr>\n",
              "      <th>18</th>\n",
              "      <td>-0.528360</td>\n",
              "      <td>0.347364</td>\n",
              "      <td>-0.980669</td>\n",
              "      <td>1.320476</td>\n",
              "      <td>-0.031169</td>\n",
              "      <td>-0.944346</td>\n",
              "      <td>-0.531178</td>\n",
              "      <td>0.346269</td>\n",
              "      <td>0.446337</td>\n",
              "      <td>-0.933285</td>\n",
              "      <td>-1.335715</td>\n",
              "    </tr>\n",
              "    <tr>\n",
              "      <th>19</th>\n",
              "      <td>-0.241094</td>\n",
              "      <td>-1.160984</td>\n",
              "      <td>1.227401</td>\n",
              "      <td>-0.524166</td>\n",
              "      <td>5.388530</td>\n",
              "      <td>0.107592</td>\n",
              "      <td>0.289865</td>\n",
              "      <td>0.081262</td>\n",
              "      <td>-1.756618</td>\n",
              "      <td>2.489473</td>\n",
              "      <td>-1.147981</td>\n",
              "    </tr>\n",
              "    <tr>\n",
              "      <th>20</th>\n",
              "      <td>0.333436</td>\n",
              "      <td>-1.719632</td>\n",
              "      <td>1.073350</td>\n",
              "      <td>-0.524166</td>\n",
              "      <td>-0.222453</td>\n",
              "      <td>1.255161</td>\n",
              "      <td>0.411500</td>\n",
              "      <td>0.028261</td>\n",
              "      <td>0.511130</td>\n",
              "      <td>-0.756246</td>\n",
              "      <td>-0.960246</td>\n",
              "    </tr>\n",
              "    <tr>\n",
              "      <th>21</th>\n",
              "      <td>-0.413454</td>\n",
              "      <td>-0.769931</td>\n",
              "      <td>0.200392</td>\n",
              "      <td>-0.169427</td>\n",
              "      <td>-0.116184</td>\n",
              "      <td>0.681377</td>\n",
              "      <td>0.745999</td>\n",
              "      <td>0.770280</td>\n",
              "      <td>1.353436</td>\n",
              "      <td>-0.048089</td>\n",
              "      <td>-0.678644</td>\n",
              "    </tr>\n",
              "    <tr>\n",
              "      <th>22</th>\n",
              "      <td>-0.241094</td>\n",
              "      <td>-0.546472</td>\n",
              "      <td>-0.313113</td>\n",
              "      <td>-0.666062</td>\n",
              "      <td>0.393905</td>\n",
              "      <td>-0.561823</td>\n",
              "      <td>-0.287906</td>\n",
              "      <td>-0.077742</td>\n",
              "      <td>-0.914312</td>\n",
              "      <td>1.486251</td>\n",
              "      <td>-0.866379</td>\n",
              "    </tr>\n",
              "    <tr>\n",
              "      <th>23</th>\n",
              "      <td>0.103624</td>\n",
              "      <td>-0.211283</td>\n",
              "      <td>-0.826617</td>\n",
              "      <td>-0.169427</td>\n",
              "      <td>-0.073677</td>\n",
              "      <td>-0.657454</td>\n",
              "      <td>0.624363</td>\n",
              "      <td>0.028261</td>\n",
              "      <td>-0.914312</td>\n",
              "      <td>-0.756246</td>\n",
              "      <td>-0.960246</td>\n",
              "    </tr>\n",
              "    <tr>\n",
              "      <th>24</th>\n",
              "      <td>-0.815625</td>\n",
              "      <td>-0.714066</td>\n",
              "      <td>-0.672566</td>\n",
              "      <td>-0.098479</td>\n",
              "      <td>-0.052423</td>\n",
              "      <td>0.490115</td>\n",
              "      <td>-0.196679</td>\n",
              "      <td>0.028261</td>\n",
              "      <td>0.770301</td>\n",
              "      <td>-0.166115</td>\n",
              "      <td>-0.678644</td>\n",
              "    </tr>\n",
              "    <tr>\n",
              "      <th>25</th>\n",
              "      <td>-1.160343</td>\n",
              "      <td>-0.769931</td>\n",
              "      <td>-0.569865</td>\n",
              "      <td>-0.807957</td>\n",
              "      <td>-0.158692</td>\n",
              "      <td>-0.466193</td>\n",
              "      <td>-0.713631</td>\n",
              "      <td>-0.660757</td>\n",
              "      <td>0.187166</td>\n",
              "      <td>-0.579207</td>\n",
              "      <td>-1.054113</td>\n",
              "    </tr>\n",
              "    <tr>\n",
              "      <th>26</th>\n",
              "      <td>-0.413454</td>\n",
              "      <td>-0.658202</td>\n",
              "      <td>-0.159061</td>\n",
              "      <td>-0.524166</td>\n",
              "      <td>-0.158692</td>\n",
              "      <td>-1.135608</td>\n",
              "      <td>-1.078539</td>\n",
              "      <td>-0.289747</td>\n",
              "      <td>-0.201591</td>\n",
              "      <td>-0.402167</td>\n",
              "      <td>-0.866379</td>\n",
              "    </tr>\n",
              "    <tr>\n",
              "      <th>27</th>\n",
              "      <td>-0.241094</td>\n",
              "      <td>-0.546472</td>\n",
              "      <td>-0.313113</td>\n",
              "      <td>-0.666062</td>\n",
              "      <td>0.393905</td>\n",
              "      <td>-0.561823</td>\n",
              "      <td>-0.287906</td>\n",
              "      <td>-0.077742</td>\n",
              "      <td>-0.914312</td>\n",
              "      <td>1.486251</td>\n",
              "      <td>-0.866379</td>\n",
              "    </tr>\n",
              "    <tr>\n",
              "      <th>28</th>\n",
              "      <td>-0.700719</td>\n",
              "      <td>1.017741</td>\n",
              "      <td>-1.391472</td>\n",
              "      <td>-0.453218</td>\n",
              "      <td>-0.158692</td>\n",
              "      <td>-0.179300</td>\n",
              "      <td>-0.348724</td>\n",
              "      <td>0.240266</td>\n",
              "      <td>1.029472</td>\n",
              "      <td>-0.638220</td>\n",
              "      <td>-0.960246</td>\n",
              "    </tr>\n",
              "    <tr>\n",
              "      <th>29</th>\n",
              "      <td>-0.298547</td>\n",
              "      <td>0.654620</td>\n",
              "      <td>-1.391472</td>\n",
              "      <td>-0.382271</td>\n",
              "      <td>-0.116184</td>\n",
              "      <td>-0.753085</td>\n",
              "      <td>-0.926494</td>\n",
              "      <td>-0.183745</td>\n",
              "      <td>0.446337</td>\n",
              "      <td>-0.402167</td>\n",
              "      <td>-0.584777</td>\n",
              "    </tr>\n",
              "    <tr>\n",
              "      <th>...</th>\n",
              "      <td>...</td>\n",
              "      <td>...</td>\n",
              "      <td>...</td>\n",
              "      <td>...</td>\n",
              "      <td>...</td>\n",
              "      <td>...</td>\n",
              "      <td>...</td>\n",
              "      <td>...</td>\n",
              "      <td>...</td>\n",
              "      <td>...</td>\n",
              "      <td>...</td>\n",
              "    </tr>\n",
              "    <tr>\n",
              "      <th>1569</th>\n",
              "      <td>-1.217796</td>\n",
              "      <td>-0.099554</td>\n",
              "      <td>-0.672566</td>\n",
              "      <td>-0.453218</td>\n",
              "      <td>-0.668781</td>\n",
              "      <td>-0.083669</td>\n",
              "      <td>-0.379133</td>\n",
              "      <td>-1.476978</td>\n",
              "      <td>1.094265</td>\n",
              "      <td>-0.520193</td>\n",
              "      <td>1.010966</td>\n",
              "    </tr>\n",
              "    <tr>\n",
              "      <th>1570</th>\n",
              "      <td>-1.102890</td>\n",
              "      <td>-0.937525</td>\n",
              "      <td>1.330102</td>\n",
              "      <td>-0.240375</td>\n",
              "      <td>3.029366</td>\n",
              "      <td>0.298854</td>\n",
              "      <td>-0.348724</td>\n",
              "      <td>-1.773786</td>\n",
              "      <td>0.381544</td>\n",
              "      <td>1.604277</td>\n",
              "      <td>1.855771</td>\n",
              "    </tr>\n",
              "    <tr>\n",
              "      <th>1571</th>\n",
              "      <td>-1.102890</td>\n",
              "      <td>-0.825796</td>\n",
              "      <td>-0.672566</td>\n",
              "      <td>-0.240375</td>\n",
              "      <td>-1.051348</td>\n",
              "      <td>-0.083669</td>\n",
              "      <td>-0.652813</td>\n",
              "      <td>-0.851562</td>\n",
              "      <td>0.835093</td>\n",
              "      <td>-0.048089</td>\n",
              "      <td>0.635497</td>\n",
              "    </tr>\n",
              "    <tr>\n",
              "      <th>1572</th>\n",
              "      <td>-0.585813</td>\n",
              "      <td>0.906012</td>\n",
              "      <td>0.251743</td>\n",
              "      <td>-0.240375</td>\n",
              "      <td>-0.392483</td>\n",
              "      <td>1.828946</td>\n",
              "      <td>1.749495</td>\n",
              "      <td>-0.226146</td>\n",
              "      <td>0.122373</td>\n",
              "      <td>-0.874272</td>\n",
              "      <td>-0.866379</td>\n",
              "    </tr>\n",
              "    <tr>\n",
              "      <th>1573</th>\n",
              "      <td>-1.332702</td>\n",
              "      <td>0.291499</td>\n",
              "      <td>-0.364463</td>\n",
              "      <td>-0.098479</td>\n",
              "      <td>-0.264960</td>\n",
              "      <td>-0.083669</td>\n",
              "      <td>0.107411</td>\n",
              "      <td>-1.100668</td>\n",
              "      <td>1.742192</td>\n",
              "      <td>0.069937</td>\n",
              "      <td>1.949639</td>\n",
              "    </tr>\n",
              "    <tr>\n",
              "      <th>1574</th>\n",
              "      <td>-1.562514</td>\n",
              "      <td>-1.216849</td>\n",
              "      <td>2.613864</td>\n",
              "      <td>8.060517</td>\n",
              "      <td>-0.286214</td>\n",
              "      <td>0.681377</td>\n",
              "      <td>1.384587</td>\n",
              "      <td>0.012360</td>\n",
              "      <td>0.511130</td>\n",
              "      <td>-1.051311</td>\n",
              "      <td>0.072294</td>\n",
              "    </tr>\n",
              "    <tr>\n",
              "      <th>1575</th>\n",
              "      <td>-0.470907</td>\n",
              "      <td>-0.043689</td>\n",
              "      <td>0.662546</td>\n",
              "      <td>-0.240375</td>\n",
              "      <td>-0.583766</td>\n",
              "      <td>-0.370562</td>\n",
              "      <td>-0.804858</td>\n",
              "      <td>-1.063567</td>\n",
              "      <td>-0.331177</td>\n",
              "      <td>-0.107102</td>\n",
              "      <td>1.292568</td>\n",
              "    </tr>\n",
              "    <tr>\n",
              "      <th>1576</th>\n",
              "      <td>-0.183641</td>\n",
              "      <td>-1.272714</td>\n",
              "      <td>1.843607</td>\n",
              "      <td>-0.666062</td>\n",
              "      <td>-0.137438</td>\n",
              "      <td>0.011961</td>\n",
              "      <td>-0.531178</td>\n",
              "      <td>-0.459352</td>\n",
              "      <td>-0.072005</td>\n",
              "      <td>0.719081</td>\n",
              "      <td>0.353895</td>\n",
              "    </tr>\n",
              "    <tr>\n",
              "      <th>1577</th>\n",
              "      <td>-1.217796</td>\n",
              "      <td>0.961877</td>\n",
              "      <td>-0.621215</td>\n",
              "      <td>1.817111</td>\n",
              "      <td>-0.243707</td>\n",
              "      <td>-0.274931</td>\n",
              "      <td>-0.591995</td>\n",
              "      <td>-0.279147</td>\n",
              "      <td>1.483021</td>\n",
              "      <td>-0.343154</td>\n",
              "      <td>1.386435</td>\n",
              "    </tr>\n",
              "    <tr>\n",
              "      <th>1578</th>\n",
              "      <td>-0.873078</td>\n",
              "      <td>0.794282</td>\n",
              "      <td>-0.621215</td>\n",
              "      <td>-0.524166</td>\n",
              "      <td>0.648950</td>\n",
              "      <td>-0.274931</td>\n",
              "      <td>-0.804858</td>\n",
              "      <td>-0.713758</td>\n",
              "      <td>0.705508</td>\n",
              "      <td>0.069937</td>\n",
              "      <td>0.823232</td>\n",
              "    </tr>\n",
              "    <tr>\n",
              "      <th>1579</th>\n",
              "      <td>-1.217796</td>\n",
              "      <td>0.179770</td>\n",
              "      <td>-0.929318</td>\n",
              "      <td>-0.595114</td>\n",
              "      <td>-0.732542</td>\n",
              "      <td>0.777007</td>\n",
              "      <td>-0.439951</td>\n",
              "      <td>-1.445177</td>\n",
              "      <td>1.483021</td>\n",
              "      <td>-0.343154</td>\n",
              "      <td>0.823232</td>\n",
              "    </tr>\n",
              "    <tr>\n",
              "      <th>1580</th>\n",
              "      <td>-0.528360</td>\n",
              "      <td>-0.993390</td>\n",
              "      <td>0.303093</td>\n",
              "      <td>-0.098479</td>\n",
              "      <td>-0.413736</td>\n",
              "      <td>-0.657454</td>\n",
              "      <td>-0.622404</td>\n",
              "      <td>-1.084768</td>\n",
              "      <td>0.316751</td>\n",
              "      <td>-0.343154</td>\n",
              "      <td>1.386435</td>\n",
              "    </tr>\n",
              "    <tr>\n",
              "      <th>1581</th>\n",
              "      <td>-1.217796</td>\n",
              "      <td>0.179770</td>\n",
              "      <td>-0.929318</td>\n",
              "      <td>-0.595114</td>\n",
              "      <td>-0.732542</td>\n",
              "      <td>0.777007</td>\n",
              "      <td>-0.439951</td>\n",
              "      <td>-1.445177</td>\n",
              "      <td>1.483021</td>\n",
              "      <td>-0.343154</td>\n",
              "      <td>0.823232</td>\n",
              "    </tr>\n",
              "    <tr>\n",
              "      <th>1582</th>\n",
              "      <td>-1.275249</td>\n",
              "      <td>1.045674</td>\n",
              "      <td>-0.877968</td>\n",
              "      <td>0.043416</td>\n",
              "      <td>-0.732542</td>\n",
              "      <td>-0.274931</td>\n",
              "      <td>-0.591995</td>\n",
              "      <td>-1.657183</td>\n",
              "      <td>1.677400</td>\n",
              "      <td>-0.933285</td>\n",
              "      <td>1.386435</td>\n",
              "    </tr>\n",
              "    <tr>\n",
              "      <th>1583</th>\n",
              "      <td>-1.217796</td>\n",
              "      <td>-0.378878</td>\n",
              "      <td>0.097691</td>\n",
              "      <td>-0.311323</td>\n",
              "      <td>-0.286214</td>\n",
              "      <td>1.542054</td>\n",
              "      <td>1.567041</td>\n",
              "      <td>-0.512353</td>\n",
              "      <td>0.122373</td>\n",
              "      <td>-0.225128</td>\n",
              "      <td>-0.584777</td>\n",
              "    </tr>\n",
              "    <tr>\n",
              "      <th>1584</th>\n",
              "      <td>-0.930531</td>\n",
              "      <td>-1.160984</td>\n",
              "      <td>0.867948</td>\n",
              "      <td>-0.098479</td>\n",
              "      <td>-0.562513</td>\n",
              "      <td>0.777007</td>\n",
              "      <td>-0.379133</td>\n",
              "      <td>-1.010566</td>\n",
              "      <td>-0.136798</td>\n",
              "      <td>0.837107</td>\n",
              "      <td>1.104833</td>\n",
              "    </tr>\n",
              "    <tr>\n",
              "      <th>1585</th>\n",
              "      <td>-0.643266</td>\n",
              "      <td>-0.769931</td>\n",
              "      <td>0.867948</td>\n",
              "      <td>0.043416</td>\n",
              "      <td>-0.456244</td>\n",
              "      <td>0.585746</td>\n",
              "      <td>0.046593</td>\n",
              "      <td>-0.957565</td>\n",
              "      <td>-0.072005</td>\n",
              "      <td>1.073160</td>\n",
              "      <td>1.010966</td>\n",
              "    </tr>\n",
              "    <tr>\n",
              "      <th>1586</th>\n",
              "      <td>-0.470907</td>\n",
              "      <td>-1.216849</td>\n",
              "      <td>0.713897</td>\n",
              "      <td>-0.098479</td>\n",
              "      <td>-0.477498</td>\n",
              "      <td>1.733315</td>\n",
              "      <td>0.411500</td>\n",
              "      <td>-0.968165</td>\n",
              "      <td>0.187166</td>\n",
              "      <td>1.132173</td>\n",
              "      <td>0.917099</td>\n",
              "    </tr>\n",
              "    <tr>\n",
              "      <th>1587</th>\n",
              "      <td>-1.447608</td>\n",
              "      <td>0.459094</td>\n",
              "      <td>-0.826617</td>\n",
              "      <td>-0.524166</td>\n",
              "      <td>-0.456244</td>\n",
              "      <td>0.203223</td>\n",
              "      <td>-0.561586</td>\n",
              "      <td>-1.015866</td>\n",
              "      <td>1.547814</td>\n",
              "      <td>0.010924</td>\n",
              "      <td>0.447763</td>\n",
              "    </tr>\n",
              "    <tr>\n",
              "      <th>1588</th>\n",
              "      <td>-0.643266</td>\n",
              "      <td>0.738418</td>\n",
              "      <td>0.303093</td>\n",
              "      <td>-0.027532</td>\n",
              "      <td>-0.413736</td>\n",
              "      <td>1.733315</td>\n",
              "      <td>1.688677</td>\n",
              "      <td>-1.381576</td>\n",
              "      <td>-0.266384</td>\n",
              "      <td>0.719081</td>\n",
              "      <td>2.231240</td>\n",
              "    </tr>\n",
              "    <tr>\n",
              "      <th>1589</th>\n",
              "      <td>-0.987984</td>\n",
              "      <td>1.101539</td>\n",
              "      <td>-0.364463</td>\n",
              "      <td>3.732701</td>\n",
              "      <td>-0.307468</td>\n",
              "      <td>1.255161</td>\n",
              "      <td>0.989271</td>\n",
              "      <td>0.505273</td>\n",
              "      <td>-0.136798</td>\n",
              "      <td>-0.697233</td>\n",
              "      <td>-1.147981</td>\n",
              "    </tr>\n",
              "    <tr>\n",
              "      <th>1590</th>\n",
              "      <td>-1.160343</td>\n",
              "      <td>0.123905</td>\n",
              "      <td>-0.621215</td>\n",
              "      <td>-0.524166</td>\n",
              "      <td>-0.222453</td>\n",
              "      <td>0.968269</td>\n",
              "      <td>-0.348724</td>\n",
              "      <td>-1.911589</td>\n",
              "      <td>0.057580</td>\n",
              "      <td>0.955133</td>\n",
              "      <td>1.104833</td>\n",
              "    </tr>\n",
              "    <tr>\n",
              "      <th>1591</th>\n",
              "      <td>-1.677421</td>\n",
              "      <td>1.185336</td>\n",
              "      <td>-0.929318</td>\n",
              "      <td>-0.595114</td>\n",
              "      <td>0.032592</td>\n",
              "      <td>0.011961</td>\n",
              "      <td>-0.622404</td>\n",
              "      <td>-1.445177</td>\n",
              "      <td>2.325327</td>\n",
              "      <td>-0.579207</td>\n",
              "      <td>1.104833</td>\n",
              "    </tr>\n",
              "    <tr>\n",
              "      <th>1592</th>\n",
              "      <td>-1.160343</td>\n",
              "      <td>-0.099554</td>\n",
              "      <td>-0.723916</td>\n",
              "      <td>-0.169427</td>\n",
              "      <td>-0.243707</td>\n",
              "      <td>1.255161</td>\n",
              "      <td>-0.196679</td>\n",
              "      <td>-0.533554</td>\n",
              "      <td>0.705508</td>\n",
              "      <td>0.542042</td>\n",
              "      <td>0.541630</td>\n",
              "    </tr>\n",
              "    <tr>\n",
              "      <th>1593</th>\n",
              "      <td>-0.873078</td>\n",
              "      <td>0.514959</td>\n",
              "      <td>-0.980669</td>\n",
              "      <td>-0.453218</td>\n",
              "      <td>-0.413736</td>\n",
              "      <td>1.159531</td>\n",
              "      <td>-0.257497</td>\n",
              "      <td>-0.125443</td>\n",
              "      <td>0.705508</td>\n",
              "      <td>0.955133</td>\n",
              "      <td>-0.866379</td>\n",
              "    </tr>\n",
              "    <tr>\n",
              "      <th>1594</th>\n",
              "      <td>-1.217796</td>\n",
              "      <td>0.403229</td>\n",
              "      <td>-0.980669</td>\n",
              "      <td>-0.382271</td>\n",
              "      <td>0.053845</td>\n",
              "      <td>1.542054</td>\n",
              "      <td>-0.075043</td>\n",
              "      <td>-0.978765</td>\n",
              "      <td>0.899886</td>\n",
              "      <td>-0.461180</td>\n",
              "      <td>0.072294</td>\n",
              "    </tr>\n",
              "    <tr>\n",
              "      <th>1595</th>\n",
              "      <td>-1.390155</td>\n",
              "      <td>0.123905</td>\n",
              "      <td>-0.877968</td>\n",
              "      <td>-0.240375</td>\n",
              "      <td>-0.541259</td>\n",
              "      <td>2.211469</td>\n",
              "      <td>0.137820</td>\n",
              "      <td>-0.862162</td>\n",
              "      <td>1.353436</td>\n",
              "      <td>0.601055</td>\n",
              "      <td>0.729364</td>\n",
              "    </tr>\n",
              "    <tr>\n",
              "      <th>1596</th>\n",
              "      <td>-1.160343</td>\n",
              "      <td>-0.099554</td>\n",
              "      <td>-0.723916</td>\n",
              "      <td>-0.169427</td>\n",
              "      <td>-0.243707</td>\n",
              "      <td>1.255161</td>\n",
              "      <td>-0.196679</td>\n",
              "      <td>-0.533554</td>\n",
              "      <td>0.705508</td>\n",
              "      <td>0.542042</td>\n",
              "      <td>0.541630</td>\n",
              "    </tr>\n",
              "    <tr>\n",
              "      <th>1597</th>\n",
              "      <td>-1.390155</td>\n",
              "      <td>0.654620</td>\n",
              "      <td>-0.775267</td>\n",
              "      <td>-0.382271</td>\n",
              "      <td>-0.264960</td>\n",
              "      <td>1.542054</td>\n",
              "      <td>-0.075043</td>\n",
              "      <td>-0.676657</td>\n",
              "      <td>1.677400</td>\n",
              "      <td>0.305990</td>\n",
              "      <td>-0.209308</td>\n",
              "    </tr>\n",
              "    <tr>\n",
              "      <th>1598</th>\n",
              "      <td>-1.332702</td>\n",
              "      <td>-1.216849</td>\n",
              "      <td>1.021999</td>\n",
              "      <td>0.752894</td>\n",
              "      <td>-0.434990</td>\n",
              "      <td>0.203223</td>\n",
              "      <td>-0.135861</td>\n",
              "      <td>-0.666057</td>\n",
              "      <td>0.511130</td>\n",
              "      <td>0.010924</td>\n",
              "      <td>0.541630</td>\n",
              "    </tr>\n",
              "  </tbody>\n",
              "</table>\n",
              "<p>1599 rows × 11 columns</p>\n",
              "</div>"
            ],
            "text/plain": [
              "            0         1         2         3         4         5         6   \\\n",
              "0    -0.528360  0.961877 -1.391472 -0.453218 -0.243707 -0.466193 -0.379133   \n",
              "1    -0.298547  1.967442 -1.391472  0.043416  0.223875  0.872638  0.624363   \n",
              "2    -0.298547  1.297065 -1.186070 -0.169427  0.096353 -0.083669  0.229047   \n",
              "3     1.654856 -1.384443  1.484154 -0.453218 -0.264960  0.107592  0.411500   \n",
              "4    -0.528360  0.961877 -1.391472 -0.453218 -0.243707 -0.466193 -0.379133   \n",
              "5    -0.528360  0.738418 -1.391472 -0.524166 -0.264960 -0.274931 -0.196679   \n",
              "6    -0.241094  0.403229 -1.083370 -0.666062 -0.392483 -0.083669  0.381091   \n",
              "7    -0.585813  0.682553 -1.391472 -0.949853 -0.477498 -0.083669 -0.774449   \n",
              "8    -0.298547  0.291499 -1.288771 -0.382271 -0.307468 -0.657454 -0.865676   \n",
              "9    -0.470907 -0.155419  0.457144  2.526589 -0.349975  0.107592  1.688677   \n",
              "10   -0.930531  0.291499 -0.980669 -0.524166  0.202621 -0.083669  0.563545   \n",
              "11   -0.470907 -0.155419  0.457144  2.526589 -0.349975  0.107592  1.688677   \n",
              "12   -1.562514  0.487026 -1.391472 -0.666062  0.032592  0.011961  0.381091   \n",
              "13   -0.298547  0.459094  0.097691 -0.666062  0.563935 -0.657454 -0.531178   \n",
              "14    0.333436  0.514959 -0.467164  0.894790  1.881666  3.454669  2.996263   \n",
              "15    0.333436  0.514959 -0.415813  0.965737  1.754143  3.359038  3.087490   \n",
              "16    0.103624 -1.384443  1.484154 -0.524166  0.096353  1.828946  1.719086   \n",
              "17   -0.126188  0.179770  0.046341 -0.595114  5.962380  0.011961  0.289865   \n",
              "18   -0.528360  0.347364 -0.980669  1.320476 -0.031169 -0.944346 -0.531178   \n",
              "19   -0.241094 -1.160984  1.227401 -0.524166  5.388530  0.107592  0.289865   \n",
              "20    0.333436 -1.719632  1.073350 -0.524166 -0.222453  1.255161  0.411500   \n",
              "21   -0.413454 -0.769931  0.200392 -0.169427 -0.116184  0.681377  0.745999   \n",
              "22   -0.241094 -0.546472 -0.313113 -0.666062  0.393905 -0.561823 -0.287906   \n",
              "23    0.103624 -0.211283 -0.826617 -0.169427 -0.073677 -0.657454  0.624363   \n",
              "24   -0.815625 -0.714066 -0.672566 -0.098479 -0.052423  0.490115 -0.196679   \n",
              "25   -1.160343 -0.769931 -0.569865 -0.807957 -0.158692 -0.466193 -0.713631   \n",
              "26   -0.413454 -0.658202 -0.159061 -0.524166 -0.158692 -1.135608 -1.078539   \n",
              "27   -0.241094 -0.546472 -0.313113 -0.666062  0.393905 -0.561823 -0.287906   \n",
              "28   -0.700719  1.017741 -1.391472 -0.453218 -0.158692 -0.179300 -0.348724   \n",
              "29   -0.298547  0.654620 -1.391472 -0.382271 -0.116184 -0.753085 -0.926494   \n",
              "...        ...       ...       ...       ...       ...       ...       ...   \n",
              "1569 -1.217796 -0.099554 -0.672566 -0.453218 -0.668781 -0.083669 -0.379133   \n",
              "1570 -1.102890 -0.937525  1.330102 -0.240375  3.029366  0.298854 -0.348724   \n",
              "1571 -1.102890 -0.825796 -0.672566 -0.240375 -1.051348 -0.083669 -0.652813   \n",
              "1572 -0.585813  0.906012  0.251743 -0.240375 -0.392483  1.828946  1.749495   \n",
              "1573 -1.332702  0.291499 -0.364463 -0.098479 -0.264960 -0.083669  0.107411   \n",
              "1574 -1.562514 -1.216849  2.613864  8.060517 -0.286214  0.681377  1.384587   \n",
              "1575 -0.470907 -0.043689  0.662546 -0.240375 -0.583766 -0.370562 -0.804858   \n",
              "1576 -0.183641 -1.272714  1.843607 -0.666062 -0.137438  0.011961 -0.531178   \n",
              "1577 -1.217796  0.961877 -0.621215  1.817111 -0.243707 -0.274931 -0.591995   \n",
              "1578 -0.873078  0.794282 -0.621215 -0.524166  0.648950 -0.274931 -0.804858   \n",
              "1579 -1.217796  0.179770 -0.929318 -0.595114 -0.732542  0.777007 -0.439951   \n",
              "1580 -0.528360 -0.993390  0.303093 -0.098479 -0.413736 -0.657454 -0.622404   \n",
              "1581 -1.217796  0.179770 -0.929318 -0.595114 -0.732542  0.777007 -0.439951   \n",
              "1582 -1.275249  1.045674 -0.877968  0.043416 -0.732542 -0.274931 -0.591995   \n",
              "1583 -1.217796 -0.378878  0.097691 -0.311323 -0.286214  1.542054  1.567041   \n",
              "1584 -0.930531 -1.160984  0.867948 -0.098479 -0.562513  0.777007 -0.379133   \n",
              "1585 -0.643266 -0.769931  0.867948  0.043416 -0.456244  0.585746  0.046593   \n",
              "1586 -0.470907 -1.216849  0.713897 -0.098479 -0.477498  1.733315  0.411500   \n",
              "1587 -1.447608  0.459094 -0.826617 -0.524166 -0.456244  0.203223 -0.561586   \n",
              "1588 -0.643266  0.738418  0.303093 -0.027532 -0.413736  1.733315  1.688677   \n",
              "1589 -0.987984  1.101539 -0.364463  3.732701 -0.307468  1.255161  0.989271   \n",
              "1590 -1.160343  0.123905 -0.621215 -0.524166 -0.222453  0.968269 -0.348724   \n",
              "1591 -1.677421  1.185336 -0.929318 -0.595114  0.032592  0.011961 -0.622404   \n",
              "1592 -1.160343 -0.099554 -0.723916 -0.169427 -0.243707  1.255161 -0.196679   \n",
              "1593 -0.873078  0.514959 -0.980669 -0.453218 -0.413736  1.159531 -0.257497   \n",
              "1594 -1.217796  0.403229 -0.980669 -0.382271  0.053845  1.542054 -0.075043   \n",
              "1595 -1.390155  0.123905 -0.877968 -0.240375 -0.541259  2.211469  0.137820   \n",
              "1596 -1.160343 -0.099554 -0.723916 -0.169427 -0.243707  1.255161 -0.196679   \n",
              "1597 -1.390155  0.654620 -0.775267 -0.382271 -0.264960  1.542054 -0.075043   \n",
              "1598 -1.332702 -1.216849  1.021999  0.752894 -0.434990  0.203223 -0.135861   \n",
              "\n",
              "            7         8         9         10  \n",
              "0     0.558274  1.288643 -0.579207 -0.960246  \n",
              "1     0.028261 -0.719933  0.128950 -0.584777  \n",
              "2     0.134264 -0.331177 -0.048089 -0.584777  \n",
              "3     0.664277 -0.979104 -0.461180 -0.584777  \n",
              "4     0.558274  1.288643 -0.579207 -0.960246  \n",
              "5     0.558274  1.288643 -0.579207 -0.960246  \n",
              "6    -0.183745 -0.072005 -1.169337 -0.960246  \n",
              "7    -1.137769  0.511130 -1.110324 -0.397043  \n",
              "8     0.028261  0.316751 -0.520193 -0.866379  \n",
              "9     0.558274  0.251958  0.837107  0.072294  \n",
              "10   -0.448752 -0.201591 -0.697233 -1.147981  \n",
              "11    0.558274  0.251958  0.837107  0.072294  \n",
              "12   -1.296773  1.742192 -0.815259 -0.490910  \n",
              "13    0.346269 -0.331177  5.322101 -1.241848  \n",
              "14    0.982285 -0.979104  1.309212 -1.147981  \n",
              "15    0.982285 -0.914312  1.604277 -1.147981  \n",
              "16    0.081262 -0.072005  0.542042  0.072294  \n",
              "17    0.028261 -1.303068  3.669735 -1.054113  \n",
              "18    0.346269  0.446337 -0.933285 -1.335715  \n",
              "19    0.081262 -1.756618  2.489473 -1.147981  \n",
              "20    0.028261  0.511130 -0.756246 -0.960246  \n",
              "21    0.770280  1.353436 -0.048089 -0.678644  \n",
              "22   -0.077742 -0.914312  1.486251 -0.866379  \n",
              "23    0.028261 -0.914312 -0.756246 -0.960246  \n",
              "24    0.028261  0.770301 -0.166115 -0.678644  \n",
              "25   -0.660757  0.187166 -0.579207 -1.054113  \n",
              "26   -0.289747 -0.201591 -0.402167 -0.866379  \n",
              "27   -0.077742 -0.914312  1.486251 -0.866379  \n",
              "28    0.240266  1.029472 -0.638220 -0.960246  \n",
              "29   -0.183745  0.446337 -0.402167 -0.584777  \n",
              "...        ...       ...       ...       ...  \n",
              "1569 -1.476978  1.094265 -0.520193  1.010966  \n",
              "1570 -1.773786  0.381544  1.604277  1.855771  \n",
              "1571 -0.851562  0.835093 -0.048089  0.635497  \n",
              "1572 -0.226146  0.122373 -0.874272 -0.866379  \n",
              "1573 -1.100668  1.742192  0.069937  1.949639  \n",
              "1574  0.012360  0.511130 -1.051311  0.072294  \n",
              "1575 -1.063567 -0.331177 -0.107102  1.292568  \n",
              "1576 -0.459352 -0.072005  0.719081  0.353895  \n",
              "1577 -0.279147  1.483021 -0.343154  1.386435  \n",
              "1578 -0.713758  0.705508  0.069937  0.823232  \n",
              "1579 -1.445177  1.483021 -0.343154  0.823232  \n",
              "1580 -1.084768  0.316751 -0.343154  1.386435  \n",
              "1581 -1.445177  1.483021 -0.343154  0.823232  \n",
              "1582 -1.657183  1.677400 -0.933285  1.386435  \n",
              "1583 -0.512353  0.122373 -0.225128 -0.584777  \n",
              "1584 -1.010566 -0.136798  0.837107  1.104833  \n",
              "1585 -0.957565 -0.072005  1.073160  1.010966  \n",
              "1586 -0.968165  0.187166  1.132173  0.917099  \n",
              "1587 -1.015866  1.547814  0.010924  0.447763  \n",
              "1588 -1.381576 -0.266384  0.719081  2.231240  \n",
              "1589  0.505273 -0.136798 -0.697233 -1.147981  \n",
              "1590 -1.911589  0.057580  0.955133  1.104833  \n",
              "1591 -1.445177  2.325327 -0.579207  1.104833  \n",
              "1592 -0.533554  0.705508  0.542042  0.541630  \n",
              "1593 -0.125443  0.705508  0.955133 -0.866379  \n",
              "1594 -0.978765  0.899886 -0.461180  0.072294  \n",
              "1595 -0.862162  1.353436  0.601055  0.729364  \n",
              "1596 -0.533554  0.705508  0.542042  0.541630  \n",
              "1597 -0.676657  1.677400  0.305990 -0.209308  \n",
              "1598 -0.666057  0.511130  0.010924  0.541630  \n",
              "\n",
              "[1599 rows x 11 columns]"
            ]
          },
          "metadata": {
            "tags": []
          },
          "execution_count": 76
        }
      ]
    },
    {
      "metadata": {
        "id": "jNxO0M9qxGaZ",
        "colab_type": "code",
        "colab": {}
      },
      "cell_type": "code",
      "source": [
        "def qual_enc(quality):\n",
        "    if quality == 3 or quality == 4:\n",
        "        return 0\n",
        "    elif quality == 5 or quality == 6:\n",
        "        return 1\n",
        "    else:\n",
        "        return 2\n",
        "df['quality_rate'] = df['quality'].apply(qual_enc)"
      ],
      "execution_count": 0,
      "outputs": []
    },
    {
      "metadata": {
        "id": "hCTrW4uwxGap",
        "colab_type": "text"
      },
      "cell_type": "markdown",
      "source": [
        "#### Data is ready for Training"
      ]
    },
    {
      "metadata": {
        "id": "tAygaC0NxGa4",
        "colab_type": "code",
        "colab": {}
      },
      "cell_type": "code",
      "source": [
        "X = scale_df\n",
        "y = df['quality_rate']"
      ],
      "execution_count": 0,
      "outputs": []
    },
    {
      "metadata": {
        "id": "UefBOtWRxGbG",
        "colab_type": "code",
        "colab": {}
      },
      "cell_type": "code",
      "source": [
        "X_train, X_test, y_train, y_test = train_test_split(X, y, test_size=0.30)"
      ],
      "execution_count": 0,
      "outputs": []
    },
    {
      "metadata": {
        "id": "ZFjyAWEaxGbK",
        "colab_type": "text"
      },
      "cell_type": "markdown",
      "source": [
        "##  Logistic Regression"
      ]
    },
    {
      "metadata": {
        "id": "E4Vnp8UFxGbM",
        "colab_type": "code",
        "colab": {
          "base_uri": "https://localhost:8080/",
          "height": 92
        },
        "outputId": "533015cf-3958-4d17-dbda-af3cac511758"
      },
      "cell_type": "code",
      "source": [
        "from sklearn.linear_model import LogisticRegression\n",
        "log = LogisticRegression()\n",
        "log.fit(X_train, y_train) # Training "
      ],
      "execution_count": 80,
      "outputs": [
        {
          "output_type": "execute_result",
          "data": {
            "text/plain": [
              "LogisticRegression(C=1.0, class_weight=None, dual=False, fit_intercept=True,\n",
              "          intercept_scaling=1, max_iter=100, multi_class='ovr', n_jobs=1,\n",
              "          penalty='l2', random_state=None, solver='liblinear', tol=0.0001,\n",
              "          verbose=0, warm_start=False)"
            ]
          },
          "metadata": {
            "tags": []
          },
          "execution_count": 80
        }
      ]
    },
    {
      "metadata": {
        "id": "DgN_LKv9xGbT",
        "colab_type": "code",
        "colab": {}
      },
      "cell_type": "code",
      "source": [
        "# Prdeiction\n",
        "log_pred = log.predict(X_test)"
      ],
      "execution_count": 0,
      "outputs": []
    },
    {
      "metadata": {
        "id": "GcWzOvmZxGbb",
        "colab_type": "code",
        "colab": {
          "base_uri": "https://localhost:8080/",
          "height": 74
        },
        "outputId": "d78bfb49-474f-4211-b802-81797147d453"
      },
      "cell_type": "code",
      "source": [
        "# Confusion Metrics\n",
        "from sklearn import metrics\n",
        "from sklearn.metrics import confusion_matrix\n",
        "log_CM = confusion_matrix(y_test, log_pred)\n",
        "log_CM"
      ],
      "execution_count": 82,
      "outputs": [
        {
          "output_type": "execute_result",
          "data": {
            "text/plain": [
              "array([[  1,  17,   0],\n",
              "       [  0, 381,   7],\n",
              "       [  0,  56,  18]])"
            ]
          },
          "metadata": {
            "tags": []
          },
          "execution_count": 82
        }
      ]
    },
    {
      "metadata": {
        "id": "CPrLZxvJxGbj",
        "colab_type": "code",
        "colab": {
          "base_uri": "https://localhost:8080/",
          "height": 36
        },
        "outputId": "6ee1cffd-5f57-4642-e614-d5f39a85af89"
      },
      "cell_type": "code",
      "source": [
        "# Accuracy Score\n",
        "log_AC = metrics.accuracy_score(y_test, log_pred)\n",
        "log_AC"
      ],
      "execution_count": 83,
      "outputs": [
        {
          "output_type": "execute_result",
          "data": {
            "text/plain": [
              "0.8333333333333334"
            ]
          },
          "metadata": {
            "tags": []
          },
          "execution_count": 83
        }
      ]
    },
    {
      "metadata": {
        "id": "zGfUh432xGbr",
        "colab_type": "text"
      },
      "cell_type": "markdown",
      "source": [
        "### SVM"
      ]
    },
    {
      "metadata": {
        "id": "8TnZbIi8xGbw",
        "colab_type": "code",
        "colab": {
          "base_uri": "https://localhost:8080/",
          "height": 92
        },
        "outputId": "5195d61f-5e6c-4d5b-c58d-08d8f9ca1409"
      },
      "cell_type": "code",
      "source": [
        "from sklearn.svm import SVC\n",
        "svm = SVC()\n",
        "svm.fit(X_train, y_train)"
      ],
      "execution_count": 84,
      "outputs": [
        {
          "output_type": "execute_result",
          "data": {
            "text/plain": [
              "SVC(C=1.0, cache_size=200, class_weight=None, coef0=0.0,\n",
              "  decision_function_shape='ovr', degree=3, gamma='auto', kernel='rbf',\n",
              "  max_iter=-1, probability=False, random_state=None, shrinking=True,\n",
              "  tol=0.001, verbose=False)"
            ]
          },
          "metadata": {
            "tags": []
          },
          "execution_count": 84
        }
      ]
    },
    {
      "metadata": {
        "id": "9UWkXBzQxGcG",
        "colab_type": "code",
        "colab": {}
      },
      "cell_type": "code",
      "source": [
        "# Prediction\n",
        "svm_pred = svm.predict(X_test)"
      ],
      "execution_count": 0,
      "outputs": []
    },
    {
      "metadata": {
        "id": "Mfe4hRb_xGcQ",
        "colab_type": "code",
        "colab": {
          "base_uri": "https://localhost:8080/",
          "height": 74
        },
        "outputId": "142cbcef-0f81-478b-8ca0-d56d4c7054da"
      },
      "cell_type": "code",
      "source": [
        "# Confusion Metrics\n",
        "from sklearn import metrics\n",
        "from sklearn.metrics import confusion_matrix\n",
        "svm_CM = confusion_matrix(y_test, svm_pred)\n",
        "svm_CM"
      ],
      "execution_count": 86,
      "outputs": [
        {
          "output_type": "execute_result",
          "data": {
            "text/plain": [
              "array([[  0,  18,   0],\n",
              "       [  0, 381,   7],\n",
              "       [  0,  50,  24]])"
            ]
          },
          "metadata": {
            "tags": []
          },
          "execution_count": 86
        }
      ]
    },
    {
      "metadata": {
        "id": "BIPQxr5mxGci",
        "colab_type": "code",
        "colab": {
          "base_uri": "https://localhost:8080/",
          "height": 36
        },
        "outputId": "cdcc9c98-ed2e-45dc-b3c4-c0dc05a54d2d"
      },
      "cell_type": "code",
      "source": [
        "# Accuracy Score\n",
        "svm_AC = metrics.accuracy_score(y_test, svm_pred)\n",
        "svm_AC"
      ],
      "execution_count": 87,
      "outputs": [
        {
          "output_type": "execute_result",
          "data": {
            "text/plain": [
              "0.84375"
            ]
          },
          "metadata": {
            "tags": []
          },
          "execution_count": 87
        }
      ]
    },
    {
      "metadata": {
        "id": "0EXpFW0JxGc6",
        "colab_type": "text"
      },
      "cell_type": "markdown",
      "source": [
        "## Grid Search CV"
      ]
    },
    {
      "metadata": {
        "id": "6u9ZtZEUxGc_",
        "colab_type": "code",
        "colab": {
          "base_uri": "https://localhost:8080/",
          "height": 187
        },
        "outputId": "0bee9d68-9d3b-4387-8218-1ab9d9db3fe7"
      },
      "cell_type": "code",
      "source": [
        "from sklearn import svm\n",
        "from sklearn.model_selection import GridSearchCV\n",
        "#k_range = list(range(1, 31))\n",
        "#param_grid = dict(n_neighbors=k_range)\n",
        "param_grid = { 'kernel': ['rbf'],'C': [0.1,1,3,10], 'gamma': [0.001,0.01,0.1,1]}\n",
        "svc = svm.SVC()\n",
        "grid = GridSearchCV(svc, param_grid, cv=5, scoring='accuracy')\n",
        "grid.fit(X_train, y_train)"
      ],
      "execution_count": 88,
      "outputs": [
        {
          "output_type": "execute_result",
          "data": {
            "text/plain": [
              "GridSearchCV(cv=5, error_score='raise',\n",
              "       estimator=SVC(C=1.0, cache_size=200, class_weight=None, coef0=0.0,\n",
              "  decision_function_shape='ovr', degree=3, gamma='auto', kernel='rbf',\n",
              "  max_iter=-1, probability=False, random_state=None, shrinking=True,\n",
              "  tol=0.001, verbose=False),\n",
              "       fit_params=None, iid=True, n_jobs=1,\n",
              "       param_grid={'kernel': ['rbf'], 'C': [0.1, 1, 3, 10], 'gamma': [0.001, 0.01, 0.1, 1]},\n",
              "       pre_dispatch='2*n_jobs', refit=True, return_train_score='warn',\n",
              "       scoring='accuracy', verbose=0)"
            ]
          },
          "metadata": {
            "tags": []
          },
          "execution_count": 88
        }
      ]
    },
    {
      "metadata": {
        "id": "iVREhHHJxGdK",
        "colab_type": "code",
        "colab": {
          "base_uri": "https://localhost:8080/",
          "height": 377
        },
        "outputId": "828e0dc7-825d-4fd4-fe0f-9e98956cfa4b"
      },
      "cell_type": "code",
      "source": [
        "grid.grid_scores_"
      ],
      "execution_count": 89,
      "outputs": [
        {
          "output_type": "stream",
          "text": [
            "/usr/local/lib/python2.7/dist-packages/sklearn/model_selection/_search.py:761: DeprecationWarning: The grid_scores_ attribute was deprecated in version 0.18 in favor of the more elaborate cv_results_ attribute. The grid_scores_ attribute will not be available from 0.20\n",
            "  DeprecationWarning)\n"
          ],
          "name": "stderr"
        },
        {
          "output_type": "execute_result",
          "data": {
            "text/plain": [
              "[mean: 0.83199, std: 0.00172, params: {'kernel': 'rbf', 'C': 0.1, 'gamma': 0.001},\n",
              " mean: 0.83199, std: 0.00172, params: {'kernel': 'rbf', 'C': 0.1, 'gamma': 0.01},\n",
              " mean: 0.83199, std: 0.00172, params: {'kernel': 'rbf', 'C': 0.1, 'gamma': 0.1},\n",
              " mean: 0.83199, std: 0.00172, params: {'kernel': 'rbf', 'C': 0.1, 'gamma': 1},\n",
              " mean: 0.83199, std: 0.00172, params: {'kernel': 'rbf', 'C': 1, 'gamma': 0.001},\n",
              " mean: 0.83199, std: 0.00172, params: {'kernel': 'rbf', 'C': 1, 'gamma': 0.01},\n",
              " mean: 0.84450, std: 0.01148, params: {'kernel': 'rbf', 'C': 1, 'gamma': 0.1},\n",
              " mean: 0.84987, std: 0.01878, params: {'kernel': 'rbf', 'C': 1, 'gamma': 1},\n",
              " mean: 0.83199, std: 0.00172, params: {'kernel': 'rbf', 'C': 3, 'gamma': 0.001},\n",
              " mean: 0.83110, std: 0.00157, params: {'kernel': 'rbf', 'C': 3, 'gamma': 0.01},\n",
              " mean: 0.84987, std: 0.01524, params: {'kernel': 'rbf', 'C': 3, 'gamma': 0.1},\n",
              " mean: 0.85255, std: 0.01635, params: {'kernel': 'rbf', 'C': 3, 'gamma': 1},\n",
              " mean: 0.83199, std: 0.00172, params: {'kernel': 'rbf', 'C': 10, 'gamma': 0.001},\n",
              " mean: 0.83467, std: 0.00532, params: {'kernel': 'rbf', 'C': 10, 'gamma': 0.01},\n",
              " mean: 0.84897, std: 0.02015, params: {'kernel': 'rbf', 'C': 10, 'gamma': 0.1},\n",
              " mean: 0.84808, std: 0.01710, params: {'kernel': 'rbf', 'C': 10, 'gamma': 1}]"
            ]
          },
          "metadata": {
            "tags": []
          },
          "execution_count": 89
        }
      ]
    },
    {
      "metadata": {
        "id": "e5xiN4XuxGdS",
        "colab_type": "code",
        "colab": {
          "base_uri": "https://localhost:8080/",
          "height": 207
        },
        "outputId": "9c6d3c50-f5a4-4af6-98d5-bd8a9a7ed385"
      },
      "cell_type": "code",
      "source": [
        "print(grid.grid_scores_[0].parameters)\n",
        "print(grid.grid_scores_[0].cv_validation_scores)\n",
        "print(grid.grid_scores_[0].mean_validation_score)"
      ],
      "execution_count": 90,
      "outputs": [
        {
          "output_type": "stream",
          "text": [
            "{'kernel': 'rbf', 'C': 0.1, 'gamma': 0.001}\n",
            "[0.83111111 0.83035714 0.83035714 0.83408072 0.83408072]\n",
            "0.8319928507596068\n"
          ],
          "name": "stdout"
        },
        {
          "output_type": "stream",
          "text": [
            "/usr/local/lib/python2.7/dist-packages/sklearn/model_selection/_search.py:761: DeprecationWarning: The grid_scores_ attribute was deprecated in version 0.18 in favor of the more elaborate cv_results_ attribute. The grid_scores_ attribute will not be available from 0.20\n",
            "  DeprecationWarning)\n",
            "/usr/local/lib/python2.7/dist-packages/sklearn/model_selection/_search.py:761: DeprecationWarning: The grid_scores_ attribute was deprecated in version 0.18 in favor of the more elaborate cv_results_ attribute. The grid_scores_ attribute will not be available from 0.20\n",
            "  DeprecationWarning)\n",
            "/usr/local/lib/python2.7/dist-packages/sklearn/model_selection/_search.py:761: DeprecationWarning: The grid_scores_ attribute was deprecated in version 0.18 in favor of the more elaborate cv_results_ attribute. The grid_scores_ attribute will not be available from 0.20\n",
            "  DeprecationWarning)\n"
          ],
          "name": "stderr"
        }
      ]
    },
    {
      "metadata": {
        "id": "WrhfMMBdxGdY",
        "colab_type": "code",
        "colab": {
          "base_uri": "https://localhost:8080/",
          "height": 94
        },
        "outputId": "2c8953ed-7873-4e10-85e6-ad14a72b48cb"
      },
      "cell_type": "code",
      "source": [
        "# create a list of the mean scores only\n",
        "grid_mean_scores = [result.mean_validation_score for result in grid.grid_scores_]\n",
        "print(grid_mean_scores)\n",
        "\n"
      ],
      "execution_count": 91,
      "outputs": [
        {
          "output_type": "stream",
          "text": [
            "[0.8319928507596068, 0.8319928507596068, 0.8319928507596068, 0.8319928507596068, 0.8319928507596068, 0.8319928507596068, 0.8445040214477212, 0.8498659517426274, 0.8319928507596068, 0.8310991957104558, 0.8498659517426274, 0.8525469168900804, 0.8319928507596068, 0.8346738159070599, 0.8489722966934763, 0.8480786416443253]\n"
          ],
          "name": "stdout"
        },
        {
          "output_type": "stream",
          "text": [
            "/usr/local/lib/python2.7/dist-packages/sklearn/model_selection/_search.py:761: DeprecationWarning: The grid_scores_ attribute was deprecated in version 0.18 in favor of the more elaborate cv_results_ attribute. The grid_scores_ attribute will not be available from 0.20\n",
            "  DeprecationWarning)\n"
          ],
          "name": "stderr"
        }
      ]
    },
    {
      "metadata": {
        "id": "CBSiFHGLxGdh",
        "colab_type": "code",
        "colab": {
          "base_uri": "https://localhost:8080/",
          "height": 187
        },
        "outputId": "5c1e048a-c7ba-4fb4-8af6-313506b575bd"
      },
      "cell_type": "code",
      "source": [
        "from sklearn import svm\n",
        "from sklearn.model_selection import GridSearchCV\n",
        "#k_range = list(range(1, 31))\n",
        "#param_grid = dict(n_neighbors=k_range)\n",
        "param_grid =  [\n",
        "  {'C': [0.1,1,3,10], 'kernel': ['linear']},\n",
        "  {'C': [0.1,1,3,10], 'gamma': [0.001,0.01,0.1,1], 'kernel': ['rbf']},]\n",
        "svc = svm.SVC()\n",
        "grid = GridSearchCV(svc, param_grid, cv=5, scoring='accuracy')\n",
        "grid.fit(X_train, y_train)"
      ],
      "execution_count": 92,
      "outputs": [
        {
          "output_type": "execute_result",
          "data": {
            "text/plain": [
              "GridSearchCV(cv=5, error_score='raise',\n",
              "       estimator=SVC(C=1.0, cache_size=200, class_weight=None, coef0=0.0,\n",
              "  decision_function_shape='ovr', degree=3, gamma='auto', kernel='rbf',\n",
              "  max_iter=-1, probability=False, random_state=None, shrinking=True,\n",
              "  tol=0.001, verbose=False),\n",
              "       fit_params=None, iid=True, n_jobs=1,\n",
              "       param_grid=[{'kernel': ['linear'], 'C': [0.1, 1, 3, 10]}, {'kernel': ['rbf'], 'C': [0.1, 1, 3, 10], 'gamma': [0.001, 0.01, 0.1, 1]}],\n",
              "       pre_dispatch='2*n_jobs', refit=True, return_train_score='warn',\n",
              "       scoring='accuracy', verbose=0)"
            ]
          },
          "metadata": {
            "tags": []
          },
          "execution_count": 92
        }
      ]
    },
    {
      "metadata": {
        "id": "5ec_LsElxGdp",
        "colab_type": "code",
        "colab": {
          "base_uri": "https://localhost:8080/",
          "height": 74
        },
        "outputId": "8be2d140-9a31-486c-eed8-53c866444882"
      },
      "cell_type": "code",
      "source": [
        "print('Best C:',grid.best_estimator_.C) \n",
        "print('Best Kernel:',grid.best_estimator_.kernel)\n",
        "print('Best Gamma:',grid.best_estimator_.gamma)"
      ],
      "execution_count": 93,
      "outputs": [
        {
          "output_type": "stream",
          "text": [
            "('Best C:', 3)\n",
            "('Best Kernel:', 'rbf')\n",
            "('Best Gamma:', 1)\n"
          ],
          "name": "stdout"
        }
      ]
    },
    {
      "metadata": {
        "id": "Adv9_lWP4icf",
        "colab_type": "code",
        "colab": {
          "base_uri": "https://localhost:8080/",
          "height": 36
        },
        "outputId": "2915f2e3-5abe-4cdd-b703-ced7d5c9677a"
      },
      "cell_type": "code",
      "source": [
        "# Best Score\n",
        "print('Best score:', grid.best_score_) "
      ],
      "execution_count": 94,
      "outputs": [
        {
          "output_type": "stream",
          "text": [
            "('Best score:', 0.8525469168900804)\n"
          ],
          "name": "stdout"
        }
      ]
    },
    {
      "metadata": {
        "id": "OiO8cCJu4qam",
        "colab_type": "code",
        "colab": {}
      },
      "cell_type": "code",
      "source": [
        ""
      ],
      "execution_count": 0,
      "outputs": []
    }
  ]
}